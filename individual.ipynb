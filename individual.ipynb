{
 "cells": [
  {
   "cell_type": "code",
   "execution_count": 11,
   "id": "bbea05f4",
   "metadata": {},
   "outputs": [],
   "source": [
    "import numpy as np\n",
    "import matplotlib.pyplot as plt\n",
    "from mpl_toolkits.mplot3d import Axes3D\n",
    "from sympy import diff"
   ]
  },
  {
   "cell_type": "markdown",
   "id": "d4fb25c2",
   "metadata": {},
   "source": [
    "Изобразить на графике приблизительную форму электронных облаков в атомах. Согласно современным знаниям, электронные уровни в атоме определяются четырьмя квантовыми числами. Форма электронного облака определяется двумя из этих чисел:\n",
    "\n",
    "1.Число l определяет тип орбитали (значения 0-3 соответствуют s-, p-, d-, f- орбиталям);\n",
    "\n",
    "2.Число m определяет магнитный момент электрона и может меняться в диапазоне от –l до l.\n",
    "\n",
    "При m =0 форма электронного облака определяется на основе многочленов Лежандра первого рода $ P(x) = \\frac{1}{2^ll!}\\frac{d^l}{dx^l}(x^2-1)^l$\n",
    "\n",
    "В этом случае $ Y(ф) = \\sqrt{\\frac{2l + 1}{4π}}|P(cosф)| $\n",
    "\n",
    "Параметрическое задание соответствующей поверхности имеет вид:\n",
    "$ x(θ,ф) = Y(ф) * sinф*cosθ $\n",
    "\n",
    "$ y(θ,ф) = Y(ф) * sinф*sinθ $\n",
    "\n",
    "$ z(θ,ф) = Y(ф) * cosф $, где θ,ф изменяются от 0 до 2π"
   ]
  },
  {
   "cell_type": "code",
   "execution_count": 13,
   "id": "90dd05d9",
   "metadata": {},
   "outputs": [],
   "source": [
    "l = 3\n",
    "for i in range(0,100):\n",
    "    for j in range(0,100):\n",
    "        teta = i * 2 * np.pi / 100\n",
    "        f = j * 2 * np.pi / 100\n",
    "        p = 1 / 2 ** l * np.math.factorial(l) * diff(l)"
   ]
  },
  {
   "cell_type": "code",
   "execution_count": null,
   "id": "26b7f934",
   "metadata": {},
   "outputs": [],
   "source": []
  }
 ],
 "metadata": {
  "kernelspec": {
   "display_name": "Python 3 (ipykernel)",
   "language": "python",
   "name": "python3"
  },
  "language_info": {
   "codemirror_mode": {
    "name": "ipython",
    "version": 3
   },
   "file_extension": ".py",
   "mimetype": "text/x-python",
   "name": "python",
   "nbconvert_exporter": "python",
   "pygments_lexer": "ipython3",
   "version": "3.10.9"
  }
 },
 "nbformat": 4,
 "nbformat_minor": 5
}
